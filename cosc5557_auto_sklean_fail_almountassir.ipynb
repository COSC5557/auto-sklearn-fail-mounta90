{
  "nbformat": 4,
  "nbformat_minor": 0,
  "metadata": {
    "colab": {
      "provenance": []
    },
    "kernelspec": {
      "name": "python3",
      "display_name": "Python 3"
    },
    "language_info": {
      "name": "python"
    }
  },
  "cells": [
    {
      "cell_type": "markdown",
      "source": [
        "[![Review Assignment Due Date](https://classroom.github.com/assets/deadline-readme-button-24ddc0f5d75046c5622901739e7c5dd533143b0c8e959d652212380cedb1ea36.svg)](https://classroom.github.com/a/ARi37hLH)\n",
        "[![Open in Visual Studio Code](https://classroom.github.com/assets/open-in-vscode-718a45dd9cf7e7f842a935f5ebbe5719a5e09af4491e668f4dbf3b35d5cca122.svg)](https://classroom.github.com/online_ide?assignment_repo_id=14983256&assignment_repo_type=AssignmentRepo)\n",
        "# Auto-sklearn Fail\n",
        "\n",
        "The code in `fail.py` runs\n",
        "[auto-sklearn](https://automl.github.io/auto-sklearn/master/) on a dataset for 5\n",
        "minutes. The model it finds after that time is *worse* than just using a random\n",
        "forest with default hyperparameters.\n",
        "\n",
        "Find out what's going on, why auto-sklearn's performance is so bad, and how to\n",
        "fix it. If you cannot run auto-sklearn yourself, you can use [this\n",
        "colab](https://colab.research.google.com/drive/1goMxbe5P9TA9V6qzpA-RB01TmPiZB8AC?usp=sharing)\n",
        "as a starting point.\n",
        "\n",
        "## Submission\n",
        "\n",
        "Add your report detailing your findings and code to this repository. Be specific\n",
        "when you explain why auto-sklearn fails here -- what does auto-sklearn do that\n",
        "results in bad performance, why is this a problem on this particular dataset,\n",
        "and what can you do to fix it?\n",
        "\n",
        "## Resources\n",
        "\n",
        "- https://www.youtube.com/watch?v=ugN8U--oUaU&t=1s"
      ],
      "metadata": {
        "id": "MHu9MYASKocu"
      }
    },
    {
      "cell_type": "code",
      "execution_count": 24,
      "metadata": {
        "colab": {
          "base_uri": "https://localhost:8080/"
        },
        "id": "6bo5-VmCKlZn",
        "outputId": "d1dcc1d4-be6e-4927-d357-4b5b34e91d16"
      },
      "outputs": [
        {
          "output_type": "stream",
          "name": "stdout",
          "text": [
            "Collecting git+https://github.com/Frankothe196/auto-sklearn.git@python3.10-added-compatibility\n",
            "  Cloning https://github.com/Frankothe196/auto-sklearn.git (to revision python3.10-added-compatibility) to /tmp/pip-req-build-5m5wm8d6\n",
            "  Running command git clone --filter=blob:none --quiet https://github.com/Frankothe196/auto-sklearn.git /tmp/pip-req-build-5m5wm8d6\n",
            "  Running command git checkout -b python3.10-added-compatibility --track origin/python3.10-added-compatibility\n",
            "  Switched to a new branch 'python3.10-added-compatibility'\n",
            "  Branch 'python3.10-added-compatibility' set up to track remote branch 'python3.10-added-compatibility' from 'origin'.\n",
            "  Resolved https://github.com/Frankothe196/auto-sklearn.git to commit 80a575760e99945fa31970b1479edeb759bc645a\n",
            "  Running command git submodule update --init --recursive -q\n",
            "  Installing build dependencies ... \u001b[?25l\u001b[?25hdone\n",
            "  Getting requirements to build wheel ... \u001b[?25l\u001b[?25hdone\n",
            "  Preparing metadata (pyproject.toml) ... \u001b[?25l\u001b[?25hdone\n",
            "Requirement already satisfied: setuptools in /usr/local/lib/python3.10/dist-packages (from auto-sklearn==0.16.0.dev0) (67.7.2)\n",
            "Requirement already satisfied: typing-extensions in /usr/local/lib/python3.10/dist-packages (from auto-sklearn==0.16.0.dev0) (4.11.0)\n",
            "Requirement already satisfied: distro in /usr/lib/python3/dist-packages (from auto-sklearn==0.16.0.dev0) (1.7.0)\n",
            "Requirement already satisfied: numpy>=1.9.0 in /usr/local/lib/python3.10/dist-packages (from auto-sklearn==0.16.0.dev0) (1.25.2)\n",
            "Requirement already satisfied: scipy>=1.7.0 in /usr/local/lib/python3.10/dist-packages (from auto-sklearn==0.16.0.dev0) (1.11.4)\n",
            "Requirement already satisfied: joblib in /usr/local/lib/python3.10/dist-packages (from auto-sklearn==0.16.0.dev0) (1.4.0)\n",
            "Requirement already satisfied: scikit-learn in /usr/local/lib/python3.10/dist-packages (from auto-sklearn==0.16.0.dev0) (1.2.2)\n",
            "Requirement already satisfied: dask>=2021.12 in /usr/local/lib/python3.10/dist-packages (from auto-sklearn==0.16.0.dev0) (2023.8.1)\n",
            "Requirement already satisfied: distributed>=2012.12 in /usr/local/lib/python3.10/dist-packages (from auto-sklearn==0.16.0.dev0) (2023.8.1)\n",
            "Requirement already satisfied: pyyaml in /usr/local/lib/python3.10/dist-packages (from auto-sklearn==0.16.0.dev0) (6.0.1)\n",
            "Requirement already satisfied: pandas>=1.0 in /usr/local/lib/python3.10/dist-packages (from auto-sklearn==0.16.0.dev0) (2.0.3)\n",
            "Requirement already satisfied: liac-arff in /usr/local/lib/python3.10/dist-packages (from auto-sklearn==0.16.0.dev0) (2.5.0)\n",
            "Requirement already satisfied: threadpoolctl in /usr/local/lib/python3.10/dist-packages (from auto-sklearn==0.16.0.dev0) (3.5.0)\n",
            "Requirement already satisfied: tqdm in /usr/local/lib/python3.10/dist-packages (from auto-sklearn==0.16.0.dev0) (4.66.2)\n",
            "Requirement already satisfied: ConfigSpace<0.5,>=0.4.21 in /usr/local/lib/python3.10/dist-packages (from auto-sklearn==0.16.0.dev0) (0.4.21)\n",
            "Requirement already satisfied: pynisher<0.7,>=0.6.3 in /usr/local/lib/python3.10/dist-packages (from auto-sklearn==0.16.0.dev0) (0.6.4)\n",
            "Requirement already satisfied: pyrfr<0.9,>=0.8.1 in /usr/local/lib/python3.10/dist-packages (from auto-sklearn==0.16.0.dev0) (0.8.3)\n",
            "Requirement already satisfied: smac<1.3,>=1.2 in /usr/local/lib/python3.10/dist-packages (from auto-sklearn==0.16.0.dev0) (1.2)\n",
            "Requirement already satisfied: cython in /usr/local/lib/python3.10/dist-packages (from ConfigSpace<0.5,>=0.4.21->auto-sklearn==0.16.0.dev0) (3.0.10)\n",
            "Requirement already satisfied: pyparsing in /usr/local/lib/python3.10/dist-packages (from ConfigSpace<0.5,>=0.4.21->auto-sklearn==0.16.0.dev0) (3.1.2)\n",
            "Requirement already satisfied: click>=8.0 in /usr/local/lib/python3.10/dist-packages (from dask>=2021.12->auto-sklearn==0.16.0.dev0) (8.1.7)\n",
            "Requirement already satisfied: cloudpickle>=1.5.0 in /usr/local/lib/python3.10/dist-packages (from dask>=2021.12->auto-sklearn==0.16.0.dev0) (2.2.1)\n",
            "Requirement already satisfied: fsspec>=2021.09.0 in /usr/local/lib/python3.10/dist-packages (from dask>=2021.12->auto-sklearn==0.16.0.dev0) (2023.6.0)\n",
            "Requirement already satisfied: packaging>=20.0 in /usr/local/lib/python3.10/dist-packages (from dask>=2021.12->auto-sklearn==0.16.0.dev0) (24.0)\n",
            "Requirement already satisfied: partd>=1.2.0 in /usr/local/lib/python3.10/dist-packages (from dask>=2021.12->auto-sklearn==0.16.0.dev0) (1.4.1)\n",
            "Requirement already satisfied: toolz>=0.10.0 in /usr/local/lib/python3.10/dist-packages (from dask>=2021.12->auto-sklearn==0.16.0.dev0) (0.12.1)\n",
            "Requirement already satisfied: importlib-metadata>=4.13.0 in /usr/local/lib/python3.10/dist-packages (from dask>=2021.12->auto-sklearn==0.16.0.dev0) (7.1.0)\n",
            "Requirement already satisfied: jinja2>=2.10.3 in /usr/local/lib/python3.10/dist-packages (from distributed>=2012.12->auto-sklearn==0.16.0.dev0) (3.1.3)\n",
            "Requirement already satisfied: locket>=1.0.0 in /usr/local/lib/python3.10/dist-packages (from distributed>=2012.12->auto-sklearn==0.16.0.dev0) (1.0.0)\n",
            "Requirement already satisfied: msgpack>=1.0.0 in /usr/local/lib/python3.10/dist-packages (from distributed>=2012.12->auto-sklearn==0.16.0.dev0) (1.0.8)\n",
            "Requirement already satisfied: psutil>=5.7.2 in /usr/local/lib/python3.10/dist-packages (from distributed>=2012.12->auto-sklearn==0.16.0.dev0) (5.9.5)\n",
            "Requirement already satisfied: sortedcontainers>=2.0.5 in /usr/local/lib/python3.10/dist-packages (from distributed>=2012.12->auto-sklearn==0.16.0.dev0) (2.4.0)\n",
            "Requirement already satisfied: tblib>=1.6.0 in /usr/local/lib/python3.10/dist-packages (from distributed>=2012.12->auto-sklearn==0.16.0.dev0) (3.0.0)\n",
            "Requirement already satisfied: tornado>=6.0.4 in /usr/local/lib/python3.10/dist-packages (from distributed>=2012.12->auto-sklearn==0.16.0.dev0) (6.3.3)\n",
            "Requirement already satisfied: urllib3>=1.24.3 in /usr/local/lib/python3.10/dist-packages (from distributed>=2012.12->auto-sklearn==0.16.0.dev0) (2.0.7)\n",
            "Requirement already satisfied: zict>=2.2.0 in /usr/local/lib/python3.10/dist-packages (from distributed>=2012.12->auto-sklearn==0.16.0.dev0) (3.0.0)\n",
            "Requirement already satisfied: python-dateutil>=2.8.2 in /usr/local/lib/python3.10/dist-packages (from pandas>=1.0->auto-sklearn==0.16.0.dev0) (2.8.2)\n",
            "Requirement already satisfied: pytz>=2020.1 in /usr/local/lib/python3.10/dist-packages (from pandas>=1.0->auto-sklearn==0.16.0.dev0) (2023.4)\n",
            "Requirement already satisfied: tzdata>=2022.1 in /usr/local/lib/python3.10/dist-packages (from pandas>=1.0->auto-sklearn==0.16.0.dev0) (2024.1)\n",
            "Requirement already satisfied: emcee>=3.0.0 in /usr/local/lib/python3.10/dist-packages (from smac<1.3,>=1.2->auto-sklearn==0.16.0.dev0) (3.1.6)\n",
            "Requirement already satisfied: zipp>=0.5 in /usr/local/lib/python3.10/dist-packages (from importlib-metadata>=4.13.0->dask>=2021.12->auto-sklearn==0.16.0.dev0) (3.18.1)\n",
            "Requirement already satisfied: MarkupSafe>=2.0 in /usr/local/lib/python3.10/dist-packages (from jinja2>=2.10.3->distributed>=2012.12->auto-sklearn==0.16.0.dev0) (2.1.5)\n",
            "Requirement already satisfied: six>=1.5 in /usr/local/lib/python3.10/dist-packages (from python-dateutil>=2.8.2->pandas>=1.0->auto-sklearn==0.16.0.dev0) (1.16.0)\n"
          ]
        }
      ],
      "source": [
        "!pip install git+https://github.com/Frankothe196/auto-sklearn.git@python3.10-added-compatibility"
      ]
    },
    {
      "cell_type": "code",
      "source": [
        "import sklearn.model_selection\n",
        "from sklearn.datasets import fetch_openml\n",
        "import sklearn.metrics\n",
        "from sklearn.ensemble import RandomForestClassifier\n",
        "from sklearn.preprocessing import OneHotEncoder\n",
        "\n",
        "X, y = fetch_openml(data_id=40691, as_frame=True, return_X_y=True)"
      ],
      "metadata": {
        "colab": {
          "base_uri": "https://localhost:8080/"
        },
        "id": "lNhN4jK8MCrk",
        "outputId": "fca95cf9-34bb-4af1-8fbe-bbe927bd33e4"
      },
      "execution_count": 25,
      "outputs": [
        {
          "output_type": "stream",
          "name": "stderr",
          "text": [
            "/usr/local/lib/python3.10/dist-packages/sklearn/datasets/_openml.py:968: FutureWarning: The default value of `parser` will change from `'liac-arff'` to `'auto'` in 1.4. You can set `parser='auto'` to silence this warning. Therefore, an `ImportError` will be raised from 1.4 if the dataset is dense and pandas is not installed. Note that the pandas parser may return different data types. See the Notes Section in fetch_openml's API doc for details.\n",
            "  warn(\n"
          ]
        }
      ]
    },
    {
      "cell_type": "markdown",
      "source": [
        "## Check Data Distribution"
      ],
      "metadata": {
        "id": "4ib9Nu3aDSCX"
      }
    },
    {
      "cell_type": "code",
      "source": [
        "import numpy as np\n",
        "import pandas as pd"
      ],
      "metadata": {
        "id": "pTwwGe5yPicF"
      },
      "execution_count": 26,
      "outputs": []
    },
    {
      "cell_type": "code",
      "source": [
        "X.shape"
      ],
      "metadata": {
        "colab": {
          "base_uri": "https://localhost:8080/"
        },
        "id": "g3KgB-lNGoSs",
        "outputId": "f4d6a6c0-39e5-4e8b-9568-225c8583e121"
      },
      "execution_count": 27,
      "outputs": [
        {
          "output_type": "execute_result",
          "data": {
            "text/plain": [
              "(1599, 11)"
            ]
          },
          "metadata": {},
          "execution_count": 27
        }
      ]
    },
    {
      "cell_type": "code",
      "source": [
        "target_values = np.unique(y).tolist()\n",
        "target_values"
      ],
      "metadata": {
        "colab": {
          "base_uri": "https://localhost:8080/"
        },
        "id": "1e_ij8xUDqcD",
        "outputId": "77ae566a-9d4d-409c-d7d3-3bff0c45214b"
      },
      "execution_count": 28,
      "outputs": [
        {
          "output_type": "execute_result",
          "data": {
            "text/plain": [
              "['3', '4', '5', '6', '7', '8']"
            ]
          },
          "metadata": {},
          "execution_count": 28
        }
      ]
    },
    {
      "cell_type": "code",
      "source": [
        "target_counts = y.value_counts()\n",
        "target_counts"
      ],
      "metadata": {
        "colab": {
          "base_uri": "https://localhost:8080/"
        },
        "id": "TAT54bMvD-6h",
        "outputId": "47843c96-e6d6-44f0-d782-5f4f85bb32b5"
      },
      "execution_count": 29,
      "outputs": [
        {
          "output_type": "execute_result",
          "data": {
            "text/plain": [
              "class\n",
              "5    681\n",
              "6    638\n",
              "7    199\n",
              "4     53\n",
              "8     18\n",
              "3     10\n",
              "Name: count, dtype: int64"
            ]
          },
          "metadata": {},
          "execution_count": 29
        }
      ]
    },
    {
      "cell_type": "code",
      "source": [
        "for quality in target_values:\n",
        "  number_of_quality = target_counts[quality]\n",
        "  sample_size = target_counts.sum()\n",
        "  percentage_quality = round(number_of_quality / sample_size, 2)\n",
        "  print(f\"Percentage of quality ({quality}) : {percentage_quality}\")"
      ],
      "metadata": {
        "colab": {
          "base_uri": "https://localhost:8080/"
        },
        "id": "SYuODqg6Oida",
        "outputId": "c3d92509-6351-4e69-bf52-99595835e9c1"
      },
      "execution_count": 30,
      "outputs": [
        {
          "output_type": "stream",
          "name": "stdout",
          "text": [
            "Percentage of quality (3) : 0.01\n",
            "Percentage of quality (4) : 0.03\n",
            "Percentage of quality (5) : 0.43\n",
            "Percentage of quality (6) : 0.4\n",
            "Percentage of quality (7) : 0.12\n",
            "Percentage of quality (8) : 0.01\n"
          ]
        }
      ]
    },
    {
      "cell_type": "code",
      "source": [
        "# SOURCE : https://youtu.be/zwSJeIcRFuQ?si=m4lVMrKVyXncqLkY\n",
        "\n",
        "import matplotlib.pyplot as plt\n",
        "\n",
        "graph_heights = []\n",
        "for quality in target_values:\n",
        "  number_of_quality = target_counts[quality]\n",
        "  graph_heights.append(number_of_quality)\n",
        "\n",
        "number_of_target_values = len(target_values)\n",
        "\n",
        "graph_positions = range(number_of_target_values)\n",
        "\n",
        "plt.bar(graph_positions, graph_heights)\n",
        "\n",
        "plt.xticks(graph_positions, target_values)\n",
        "\n",
        "plt.xlabel(\"Red Wine Quality Value\")\n",
        "plt.ylabel(\"Number of Samples\")\n",
        "\n",
        "plt.show()"
      ],
      "metadata": {
        "colab": {
          "base_uri": "https://localhost:8080/",
          "height": 0
        },
        "id": "gHIsT-a9GzUT",
        "outputId": "1a11d650-7644-4702-d78c-dee7c7c15b2d"
      },
      "execution_count": 31,
      "outputs": [
        {
          "output_type": "display_data",
          "data": {
            "text/plain": [
              "<Figure size 640x480 with 1 Axes>"
            ],
            "image/png": "[encoded data removed]"
          },
          "metadata": {}
        }
      ]
    },
    {
      "cell_type": "code",
      "source": [
        "# *********************\n",
        "# LINE BELOW IS CHANGED\n",
        "# *********************\n",
        "\n",
        "X_train, X_test, y_train, y_test = sklearn.model_selection.train_test_split(X, y, random_state=42)"
      ],
      "metadata": {
        "id": "Bs2SiYqP-OPQ"
      },
      "execution_count": 32,
      "outputs": []
    },
    {
      "cell_type": "code",
      "source": [
        "target_values = np.unique(y_test).tolist()\n",
        "target_values"
      ],
      "metadata": {
        "colab": {
          "base_uri": "https://localhost:8080/"
        },
        "id": "W61ozXJHPY3r",
        "outputId": "daeb43d5-fe14-432d-8d8d-81e760c78090"
      },
      "execution_count": 33,
      "outputs": [
        {
          "output_type": "execute_result",
          "data": {
            "text/plain": [
              "['3', '4', '5', '6', '7', '8']"
            ]
          },
          "metadata": {},
          "execution_count": 33
        }
      ]
    },
    {
      "cell_type": "code",
      "source": [
        "target_counts = y_test.value_counts()\n",
        "target_counts"
      ],
      "metadata": {
        "colab": {
          "base_uri": "https://localhost:8080/"
        },
        "id": "2KRm-rQbPdUF",
        "outputId": "a65bdca9-99e3-4ba1-905c-065f8a84c1db"
      },
      "execution_count": 34,
      "outputs": [
        {
          "output_type": "execute_result",
          "data": {
            "text/plain": [
              "class\n",
              "6    169\n",
              "5    164\n",
              "7     48\n",
              "4     13\n",
              "8      5\n",
              "3      1\n",
              "Name: count, dtype: int64"
            ]
          },
          "metadata": {},
          "execution_count": 34
        }
      ]
    },
    {
      "cell_type": "code",
      "source": [
        "for quality in target_values:\n",
        "  number_of_quality = target_counts[quality]\n",
        "  sample_size = target_counts.sum()\n",
        "  percentage_quality = round(number_of_quality / sample_size, 2)\n",
        "  print(f\"Percentage of quality ({quality}) : {percentage_quality}\")"
      ],
      "metadata": {
        "colab": {
          "base_uri": "https://localhost:8080/"
        },
        "id": "K2QylxKAP4zP",
        "outputId": "5f4d3dde-4f1a-4895-cdf6-3e81deebd822"
      },
      "execution_count": 35,
      "outputs": [
        {
          "output_type": "stream",
          "name": "stdout",
          "text": [
            "Percentage of quality (3) : 0.0\n",
            "Percentage of quality (4) : 0.03\n",
            "Percentage of quality (5) : 0.41\n",
            "Percentage of quality (6) : 0.42\n",
            "Percentage of quality (7) : 0.12\n",
            "Percentage of quality (8) : 0.01\n"
          ]
        }
      ]
    },
    {
      "cell_type": "code",
      "source": [
        "# SOURCE : https://youtu.be/zwSJeIcRFuQ?si=m4lVMrKVyXncqLkY\n",
        "\n",
        "import matplotlib.pyplot as plt\n",
        "\n",
        "graph_heights = []\n",
        "for quality in target_values:\n",
        "  number_of_quality = target_counts[quality]\n",
        "  graph_heights.append(number_of_quality)\n",
        "\n",
        "number_of_target_values = len(target_values)\n",
        "\n",
        "graph_positions = range(number_of_target_values)\n",
        "\n",
        "plt.bar(graph_positions, graph_heights)\n",
        "\n",
        "plt.xticks(graph_positions, target_values)\n",
        "\n",
        "plt.xlabel(\"Red Wine Quality Value\")\n",
        "plt.ylabel(\"Number of Samples\")\n",
        "\n",
        "plt.show()"
      ],
      "metadata": {
        "colab": {
          "base_uri": "https://localhost:8080/",
          "height": 0
        },
        "id": "7ftxnILSQX_q",
        "outputId": "538aadff-60a3-4b8a-d568-6304181ee3f4"
      },
      "execution_count": 36,
      "outputs": [
        {
          "output_type": "display_data",
          "data": {
            "text/plain": [
              "<Figure size 640x480 with 1 Axes>"
            ],
            "image/png": "[encoded data removed]"
          },
          "metadata": {}
        }
      ]
    },
    {
      "cell_type": "markdown",
      "source": [
        "## Replace `train_test_split` with `stratifiedShuffleSplit`\n",
        "\n",
        "Due to the imbalanced nature of the dataset, `train_test_split` should be avoided and replaced with an alternative splitting algorithm such as `stratifiedShuffleSplit` as the \"the folds are made by preserving the percentage of samples for each class.\"\n",
        "\n",
        "See documentation : https://scikit-learn.org/stable/modules/generated/sklearn.model_selection.StratifiedShuffleSplit.html#sklearn.model_selection.StratifiedShuffleSplit"
      ],
      "metadata": {
        "id": "NU1VA5l4-Qy9"
      }
    },
    {
      "cell_type": "code",
      "source": [
        "from sklearn.model_selection import StratifiedShuffleSplit\n",
        "\n",
        "# The default test split size for train_test_split is 0.25... so keep that constant to the initial train_test_split line.\n",
        "TEST_SPLIT_SIZE = 0.25\n",
        "\n",
        "# Keep the random state constant from the initial train_test_split line\n",
        "RANDOM_STATE = 42\n",
        "\n",
        "split = StratifiedShuffleSplit(\n",
        "  n_splits=1,\n",
        "  test_size=TEST_SPLIT_SIZE,\n",
        "  random_state=RANDOM_STATE\n",
        ")\n",
        "\n",
        "X_train: pd.Series\n",
        "y_train: pd.Series\n",
        "X_test: pd.Series\n",
        "y_test: pd.Series\n",
        "\n",
        "for train_index, test_index in split.split(X, y):\n",
        "\n",
        "  X_train = X.iloc[train_index]\n",
        "  y_train = y.iloc[train_index]\n",
        "\n",
        "  X_test = X.iloc[test_index]\n",
        "  y_test = y.iloc[test_index]"
      ],
      "metadata": {
        "id": "brmjfCUtLK-P"
      },
      "execution_count": 37,
      "outputs": []
    },
    {
      "cell_type": "code",
      "source": [
        "target_values = np.unique(y_test).tolist()\n",
        "target_values"
      ],
      "metadata": {
        "colab": {
          "base_uri": "https://localhost:8080/"
        },
        "id": "NbTGW2aqQsqt",
        "outputId": "8347cb63-dcf2-409c-9522-50a8f279abc8"
      },
      "execution_count": 38,
      "outputs": [
        {
          "output_type": "execute_result",
          "data": {
            "text/plain": [
              "['3', '4', '5', '6', '7', '8']"
            ]
          },
          "metadata": {},
          "execution_count": 38
        }
      ]
    },
    {
      "cell_type": "code",
      "source": [
        "target_counts = y_test.value_counts()\n",
        "target_counts"
      ],
      "metadata": {
        "colab": {
          "base_uri": "https://localhost:8080/"
        },
        "id": "P7QK97XTQ3BK",
        "outputId": "ec5f6fe2-0ce0-4be3-ea45-1651dcf11294"
      },
      "execution_count": 39,
      "outputs": [
        {
          "output_type": "execute_result",
          "data": {
            "text/plain": [
              "class\n",
              "5    170\n",
              "6    160\n",
              "7     50\n",
              "4     13\n",
              "8      5\n",
              "3      2\n",
              "Name: count, dtype: int64"
            ]
          },
          "metadata": {},
          "execution_count": 39
        }
      ]
    },
    {
      "cell_type": "code",
      "source": [
        "for quality in target_values:\n",
        "  number_of_quality = target_counts[quality]\n",
        "  sample_size = target_counts.sum()\n",
        "  percentage_quality = round(number_of_quality / sample_size, 2)\n",
        "  print(f\"Percentage of quality ({quality}) : {percentage_quality}\")"
      ],
      "metadata": {
        "colab": {
          "base_uri": "https://localhost:8080/"
        },
        "id": "SSXG1C9PQ-hH",
        "outputId": "b8ffac34-ea32-4a6c-b458-760d2b358b6a"
      },
      "execution_count": 40,
      "outputs": [
        {
          "output_type": "stream",
          "name": "stdout",
          "text": [
            "Percentage of quality (3) : 0.0\n",
            "Percentage of quality (4) : 0.03\n",
            "Percentage of quality (5) : 0.42\n",
            "Percentage of quality (6) : 0.4\n",
            "Percentage of quality (7) : 0.12\n",
            "Percentage of quality (8) : 0.01\n"
          ]
        }
      ]
    },
    {
      "cell_type": "code",
      "source": [
        "# SOURCE : https://youtu.be/zwSJeIcRFuQ?si=m4lVMrKVyXncqLkY\n",
        "\n",
        "import matplotlib.pyplot as plt\n",
        "\n",
        "graph_heights = []\n",
        "for quality in target_values:\n",
        "  number_of_quality = target_counts[quality]\n",
        "  graph_heights.append(number_of_quality)\n",
        "\n",
        "number_of_target_values = len(target_values)\n",
        "\n",
        "graph_positions = range(number_of_target_values)\n",
        "\n",
        "plt.bar(graph_positions, graph_heights)\n",
        "\n",
        "plt.xticks(graph_positions, target_values)\n",
        "\n",
        "plt.xlabel(\"Red Wine Quality Value\")\n",
        "plt.ylabel(\"Number of Samples\")\n",
        "\n",
        "plt.show()"
      ],
      "metadata": {
        "colab": {
          "base_uri": "https://localhost:8080/",
          "height": 0
        },
        "id": "K1uymrIbRB4D",
        "outputId": "e4e2963b-3865-4227-a490-0f8ef67c4c82"
      },
      "execution_count": 41,
      "outputs": [
        {
          "output_type": "display_data",
          "data": {
            "text/plain": [
              "<Figure size 640x480 with 1 Axes>"
            ],
            "image/png": "[encoded data removed]"
          },
          "metadata": {}
        }
      ]
    },
    {
      "cell_type": "markdown",
      "source": [
        "## Classification"
      ],
      "metadata": {
        "id": "ZIs-jfTeQtQv"
      }
    },
    {
      "cell_type": "code",
      "source": [
        "clf = RandomForestClassifier(random_state=42)\n",
        "clf = clf.fit(X_train, y_train)\n",
        "y_hat = clf.predict(X_test)\n",
        "print(\"RF Accuracy\", sklearn.metrics.accuracy_score(y_test, y_hat))"
      ],
      "metadata": {
        "colab": {
          "base_uri": "https://localhost:8080/"
        },
        "id": "4WCn00Z_MKs8",
        "outputId": "4555a54b-555d-48d7-9617-4a324c982b7c"
      },
      "execution_count": 42,
      "outputs": [
        {
          "output_type": "stream",
          "name": "stdout",
          "text": [
            "RF Accuracy 0.655\n"
          ]
        }
      ]
    },
    {
      "cell_type": "code",
      "source": [
        "from autosklearn.classification import AutoSklearnClassifier\n",
        "\n",
        "automl = AutoSklearnClassifier()\n",
        "\n",
        "automl.get_params()"
      ],
      "metadata": {
        "colab": {
          "base_uri": "https://localhost:8080/"
        },
        "id": "BK_kFyYrdADj",
        "outputId": "997ed3ec-679a-4de0-97e8-4e52c603ace9"
      },
      "execution_count": 43,
      "outputs": [
        {
          "output_type": "execute_result",
          "data": {
            "text/plain": [
              "{'allow_string_features': True,\n",
              " 'dask_client': None,\n",
              " 'dataset_compression': True,\n",
              " 'delete_tmp_folder_after_terminate': True,\n",
              " 'disable_evaluator_output': False,\n",
              " 'disable_progress_bar': False,\n",
              " 'ensemble_class': autosklearn.ensembles.ensemble_selection.EnsembleSelection,\n",
              " 'ensemble_kwargs': None,\n",
              " 'ensemble_nbest': 50,\n",
              " 'ensemble_size': None,\n",
              " 'exclude': None,\n",
              " 'get_smac_object_callback': None,\n",
              " 'get_trials_callback': None,\n",
              " 'include': None,\n",
              " 'initial_configurations_via_metalearning': 25,\n",
              " 'load_models': True,\n",
              " 'logging_config': None,\n",
              " 'max_models_on_disc': 50,\n",
              " 'memory_limit': 3072,\n",
              " 'metadata_directory': None,\n",
              " 'metric': None,\n",
              " 'n_jobs': None,\n",
              " 'per_run_time_limit': None,\n",
              " 'resampling_strategy': 'holdout',\n",
              " 'resampling_strategy_arguments': None,\n",
              " 'scoring_functions': None,\n",
              " 'seed': 1,\n",
              " 'smac_scenario_args': None,\n",
              " 'time_left_for_this_task': 3600,\n",
              " 'tmp_folder': None}"
            ]
          },
          "metadata": {},
          "execution_count": 43
        }
      ]
    },
    {
      "cell_type": "code",
      "source": [
        "from autosklearn.classification import AutoSklearnClassifier\n",
        "from autosklearn.metrics import f1_weighted\n",
        "\n",
        "TASK_TIME = 300\n",
        "\n",
        "# By default, the strategy is \"holdout\" whcih is a simple train-test split of (67:33);\n",
        "# Change it to K-fold CV:\n",
        "RESAMPLING_STRATEGY = {\n",
        "    \"train_size\": 0.8,\n",
        "    \"shuffle\": True,\n",
        "    \"random_state\": 42,\n",
        "    \"folds\": 10\n",
        "}\n",
        "\n",
        "# By default, AutoSklearn chooses \"accuracy\" for this dataset-specific task.\n",
        "# Change it to consider the imbalance:\n",
        "SCORING_METRIC = f1_weighted\n",
        "\n",
        "# By default, Bayesian Optimization for AutoSklearn is warm-started using previous training knowledge;\n",
        "# Disable this to allow the optimization to start with a blank page:\n",
        "INITIAL_CONFIGURATIONS = 0\n",
        "\n",
        "ENSEMBLE_CLASS = None\n",
        "\n",
        "PER_RUN_TIME_LIMIT = 150\n",
        "\n",
        "ENSEMBLE_KWARGS = {\n",
        "    \"ensemble_size\" : 0\n",
        "}\n",
        "\n",
        "automl = AutoSklearnClassifier(\n",
        "    time_left_for_this_task=TASK_TIME,\n",
        "    resampling_strategy_arguments=RESAMPLING_STRATEGY,\n",
        "    metric=SCORING_METRIC,\n",
        "    # per_run_time_limit=PER_RUN_TIME_LIMIT,\n",
        "    # ensemble_kwargs=ENSEMBLE_KWARGS,\n",
        "    # initial_configurations_via_metalearning=INITIAL_CONFIGURATIONS,\n",
        "    # ensemble_class=ENSEMBLE_CLASS,\n",
        "    # ensemble_nbest=5\n",
        ")\n",
        "\n",
        "automl.fit(X_train, y_train)\n",
        "\n",
        "y_hat = automl.predict(X_test)\n",
        "\n",
        "print(\"AutoML Accuracy\", sklearn.metrics.accuracy_score(y_test, y_hat))"
      ],
      "metadata": {
        "colab": {
          "base_uri": "https://localhost:8080/"
        },
        "id": "W6dpG4gXMNaK",
        "outputId": "028ddbba-a0c1-420b-e4fd-59494f286203"
      },
      "execution_count": 44,
      "outputs": [
        {
          "output_type": "stream",
          "name": "stderr",
          "text": [
            "\rFitting to the training data:   0%|\u001b[32m          \u001b[0m| 0/300 [00:00<?, ?it/s, The total time budget for this task is 0:05:00]/usr/local/lib/python3.10/dist-packages/autosklearn/data/target_validator.py:187: UserWarning: Fitting transformer with a pandas series which has the dtype category. Inverse transform may not be able preserve dtype when converting to np.ndarray\n",
            "  warnings.warn(\n",
            "Fitting to the training data: 100%|\u001b[32m██████████\u001b[0m| 300/300 [04:51<00:00,  1.03it/s, The total time budget for this task is 0:05:00]\n"
          ]
        },
        {
          "output_type": "stream",
          "name": "stdout",
          "text": [
            "AutoML Accuracy 0.6725\n"
          ]
        }
      ]
    },
    {
      "cell_type": "code",
      "source": [
        "print(automl.sprint_statistics())"
      ],
      "metadata": {
        "colab": {
          "base_uri": "https://localhost:8080/"
        },
        "id": "-_09cPV9lEnd",
        "outputId": "1336a026-130e-4c03-9cb3-0ac2f2b0cf07"
      },
      "execution_count": 45,
      "outputs": [
        {
          "output_type": "stream",
          "name": "stdout",
          "text": [
            "auto-sklearn results:\n",
            "  Dataset name: f4398491-0c5a-11ef-85dd-0242ac1c000c\n",
            "  Metric: f1_weighted\n",
            "  Best validation score: 0.685641\n",
            "  Number of target algorithm runs: 45\n",
            "  Number of successful target algorithm runs: 40\n",
            "  Number of crashed target algorithm runs: 4\n",
            "  Number of target algorithms that exceeded the time limit: 1\n",
            "  Number of target algorithms that exceeded the memory limit: 0\n",
            "\n"
          ]
        }
      ]
    },
    {
      "cell_type": "code",
      "source": [
        "automl.leaderboard()"
      ],
      "metadata": {
        "colab": {
          "base_uri": "https://localhost:8080/",
          "height": 300
        },
        "id": "MgVuAaizHy0k",
        "outputId": "d15a9c8b-1c82-430f-9152-a151d4fdd54d"
      },
      "execution_count": 46,
      "outputs": [
        {
          "output_type": "execute_result",
          "data": {
            "text/plain": [
              "          rank  ensemble_weight           type      cost   duration\n",
              "model_id                                                           \n",
              "45           1             0.02  random_forest  0.314359   3.778857\n",
              "20           2             0.58       adaboost  0.333606   1.515177\n",
              "7            3             0.02  liblinear_svc  0.423413  10.293934\n",
              "37           4             0.26       adaboost  0.438957   4.273169\n",
              "22           5             0.02            qda  0.442830   1.178648\n",
              "44           6             0.02    extra_trees  0.640548   1.792388\n",
              "46           7             0.08            sgd  0.780102   1.154142"
            ],
            "text/html": [
              "\n",
              "  <div id=\"df-e0089d74-1d1a-4880-8cff-2980d4f46cf6\" class=\"colab-df-container\">\n",
              "    <div>\n",
              "<style scoped>\n",
              "    .dataframe tbody tr th:only-of-type {\n",
              "        vertical-align: middle;\n",
              "    }\n",
              "\n",
              "    .dataframe tbody tr th {\n",
              "        vertical-align: top;\n",
              "    }\n",
              "\n",
              "    .dataframe thead th {\n",
              "        text-align: right;\n",
              "    }\n",
              "</style>\n",
              "<table border=\"1\" class=\"dataframe\">\n",
              "  <thead>\n",
              "    <tr style=\"text-align: right;\">\n",
              "      <th></th>\n",
              "      <th>rank</th>\n",
              "      <th>ensemble_weight</th>\n",
              "      <th>type</th>\n",
              "      <th>cost</th>\n",
              "      <th>duration</th>\n",
              "    </tr>\n",
              "    <tr>\n",
              "      <th>model_id</th>\n",
              "      <th></th>\n",
              "      <th></th>\n",
              "      <th></th>\n",
              "      <th></th>\n",
              "      <th></th>\n",
              "    </tr>\n",
              "  </thead>\n",
              "  <tbody>\n",
              "    <tr>\n",
              "      <th>45</th>\n",
              "      <td>1</td>\n",
              "      <td>0.02</td>\n",
              "      <td>random_forest</td>\n",
              "      <td>0.314359</td>\n",
              "      <td>3.778857</td>\n",
              "    </tr>\n",
              "    <tr>\n",
              "      <th>20</th>\n",
              "      <td>2</td>\n",
              "      <td>0.58</td>\n",
              "      <td>adaboost</td>\n",
              "      <td>0.333606</td>\n",
              "      <td>1.515177</td>\n",
              "    </tr>\n",
              "    <tr>\n",
              "      <th>7</th>\n",
              "      <td>3</td>\n",
              "      <td>0.02</td>\n",
              "      <td>liblinear_svc</td>\n",
              "      <td>0.423413</td>\n",
              "      <td>10.293934</td>\n",
              "    </tr>\n",
              "    <tr>\n",
              "      <th>37</th>\n",
              "      <td>4</td>\n",
              "      <td>0.26</td>\n",
              "      <td>adaboost</td>\n",
              "      <td>0.438957</td>\n",
              "      <td>4.273169</td>\n",
              "    </tr>\n",
              "    <tr>\n",
              "      <th>22</th>\n",
              "      <td>5</td>\n",
              "      <td>0.02</td>\n",
              "      <td>qda</td>\n",
              "      <td>0.442830</td>\n",
              "      <td>1.178648</td>\n",
              "    </tr>\n",
              "    <tr>\n",
              "      <th>44</th>\n",
              "      <td>6</td>\n",
              "      <td>0.02</td>\n",
              "      <td>extra_trees</td>\n",
              "      <td>0.640548</td>\n",
              "      <td>1.792388</td>\n",
              "    </tr>\n",
              "    <tr>\n",
              "      <th>46</th>\n",
              "      <td>7</td>\n",
              "      <td>0.08</td>\n",
              "      <td>sgd</td>\n",
              "      <td>0.780102</td>\n",
              "      <td>1.154142</td>\n",
              "    </tr>\n",
              "  </tbody>\n",
              "</table>\n",
              "</div>\n",
              "    <div class=\"colab-df-buttons\">\n",
              "\n",
              "  <div class=\"colab-df-container\">\n",
              "    <button class=\"colab-df-convert\" onclick=\"convertToInteractive('df-e0089d74-1d1a-4880-8cff-2980d4f46cf6')\"\n",
              "            title=\"Convert this dataframe to an interactive table.\"\n",
              "            style=\"display:none;\">\n",
              "\n",
              "  <svg xmlns=\"http://www.w3.org/2000/svg\" height=\"24px\" viewBox=\"0 -960 960 960\">\n",
              "    <path d=\"M120-120v-720h720v720H120Zm60-500h600v-160H180v160Zm220 220h160v-160H400v160Zm0 220h160v-160H400v160ZM180-400h160v-160H180v160Zm440 0h160v-160H620v160ZM180-180h160v-160H180v160Zm440 0h160v-160H620v160Z\"/>\n",
              "  </svg>\n",
              "    </button>\n",
              "\n",
              "  <style>\n",
              "    .colab-df-container {\n",
              "      display:flex;\n",
              "      gap: 12px;\n",
              "    }\n",
              "\n",
              "    .colab-df-convert {\n",
              "      background-color: #E8F0FE;\n",
              "      border: none;\n",
              "      border-radius: 50%;\n",
              "      cursor: pointer;\n",
              "      display: none;\n",
              "      fill: #1967D2;\n",
              "      height: 32px;\n",
              "      padding: 0 0 0 0;\n",
              "      width: 32px;\n",
              "    }\n",
              "\n",
              "    .colab-df-convert:hover {\n",
              "      background-color: #E2EBFA;\n",
              "      box-shadow: 0px 1px 2px rgba(60, 64, 67, 0.3), 0px 1px 3px 1px rgba(60, 64, 67, 0.15);\n",
              "      fill: #174EA6;\n",
              "    }\n",
              "\n",
              "    .colab-df-buttons div {\n",
              "      margin-bottom: 4px;\n",
              "    }\n",
              "\n",
              "    [theme=dark] .colab-df-convert {\n",
              "      background-color: #3B4455;\n",
              "      fill: #D2E3FC;\n",
              "    }\n",
              "\n",
              "    [theme=dark] .colab-df-convert:hover {\n",
              "      background-color: #434B5C;\n",
              "      box-shadow: 0px 1px 3px 1px rgba(0, 0, 0, 0.15);\n",
              "      filter: drop-shadow(0px 1px 2px rgba(0, 0, 0, 0.3));\n",
              "      fill: #FFFFFF;\n",
              "    }\n",
              "  </style>\n",
              "\n",
              "    <script>\n",
              "      const buttonEl =\n",
              "        document.querySelector('#df-e0089d74-1d1a-4880-8cff-2980d4f46cf6 button.colab-df-convert');\n",
              "      buttonEl.style.display =\n",
              "        google.colab.kernel.accessAllowed ? 'block' : 'none';\n",
              "\n",
              "      async function convertToInteractive(key) {\n",
              "        const element = document.querySelector('#df-e0089d74-1d1a-4880-8cff-2980d4f46cf6');\n",
              "        const dataTable =\n",
              "          await google.colab.kernel.invokeFunction('convertToInteractive',\n",
              "                                                    [key], {});\n",
              "        if (!dataTable) return;\n",
              "\n",
              "        const docLinkHtml = 'Like what you see? Visit the ' +\n",
              "          '<a target=\"_blank\" href=https://colab.research.google.com/notebooks/data_table.ipynb>data table notebook</a>'\n",
              "          + ' to learn more about interactive tables.';\n",
              "        element.innerHTML = '';\n",
              "        dataTable['output_type'] = 'display_data';\n",
              "        await google.colab.output.renderOutput(dataTable, element);\n",
              "        const docLink = document.createElement('div');\n",
              "        docLink.innerHTML = docLinkHtml;\n",
              "        element.appendChild(docLink);\n",
              "      }\n",
              "    </script>\n",
              "  </div>\n",
              "\n",
              "\n",
              "<div id=\"df-4c6dbba7-68ef-4ff6-afd3-1e85ccbdc8e3\">\n",
              "  <button class=\"colab-df-quickchart\" onclick=\"quickchart('df-4c6dbba7-68ef-4ff6-afd3-1e85ccbdc8e3')\"\n",
              "            title=\"Suggest charts\"\n",
              "            style=\"display:none;\">\n",
              "\n",
              "<svg xmlns=\"http://www.w3.org/2000/svg\" height=\"24px\"viewBox=\"0 0 24 24\"\n",
              "     width=\"24px\">\n",
              "    <g>\n",
              "        <path d=\"M19 3H5c-1.1 0-2 .9-2 2v14c0 1.1.9 2 2 2h14c1.1 0 2-.9 2-2V5c0-1.1-.9-2-2-2zM9 17H7v-7h2v7zm4 0h-2V7h2v10zm4 0h-2v-4h2v4z\"/>\n",
              "    </g>\n",
              "</svg>\n",
              "  </button>\n",
              "\n",
              "<style>\n",
              "  .colab-df-quickchart {\n",
              "      --bg-color: #E8F0FE;\n",
              "      --fill-color: #1967D2;\n",
              "      --hover-bg-color: #E2EBFA;\n",
              "      --hover-fill-color: #174EA6;\n",
              "      --disabled-fill-color: #AAA;\n",
              "      --disabled-bg-color: #DDD;\n",
              "  }\n",
              "\n",
              "  [theme=dark] .colab-df-quickchart {\n",
              "      --bg-color: #3B4455;\n",
              "      --fill-color: #D2E3FC;\n",
              "      --hover-bg-color: #434B5C;\n",
              "      --hover-fill-color: #FFFFFF;\n",
              "      --disabled-bg-color: #3B4455;\n",
              "      --disabled-fill-color: #666;\n",
              "  }\n",
              "\n",
              "  .colab-df-quickchart {\n",
              "    background-color: var(--bg-color);\n",
              "    border: none;\n",
              "    border-radius: 50%;\n",
              "    cursor: pointer;\n",
              "    display: none;\n",
              "    fill: var(--fill-color);\n",
              "    height: 32px;\n",
              "    padding: 0;\n",
              "    width: 32px;\n",
              "  }\n",
              "\n",
              "  .colab-df-quickchart:hover {\n",
              "    background-color: var(--hover-bg-color);\n",
              "    box-shadow: 0 1px 2px rgba(60, 64, 67, 0.3), 0 1px 3px 1px rgba(60, 64, 67, 0.15);\n",
              "    fill: var(--button-hover-fill-color);\n",
              "  }\n",
              "\n",
              "  .colab-df-quickchart-complete:disabled,\n",
              "  .colab-df-quickchart-complete:disabled:hover {\n",
              "    background-color: var(--disabled-bg-color);\n",
              "    fill: var(--disabled-fill-color);\n",
              "    box-shadow: none;\n",
              "  }\n",
              "\n",
              "  .colab-df-spinner {\n",
              "    border: 2px solid var(--fill-color);\n",
              "    border-color: transparent;\n",
              "    border-bottom-color: var(--fill-color);\n",
              "    animation:\n",
              "      spin 1s steps(1) infinite;\n",
              "  }\n",
              "\n",
              "  @keyframes spin {\n",
              "    0% {\n",
              "      border-color: transparent;\n",
              "      border-bottom-color: var(--fill-color);\n",
              "      border-left-color: var(--fill-color);\n",
              "    }\n",
              "    20% {\n",
              "      border-color: transparent;\n",
              "      border-left-color: var(--fill-color);\n",
              "      border-top-color: var(--fill-color);\n",
              "    }\n",
              "    30% {\n",
              "      border-color: transparent;\n",
              "      border-left-color: var(--fill-color);\n",
              "      border-top-color: var(--fill-color);\n",
              "      border-right-color: var(--fill-color);\n",
              "    }\n",
              "    40% {\n",
              "      border-color: transparent;\n",
              "      border-right-color: var(--fill-color);\n",
              "      border-top-color: var(--fill-color);\n",
              "    }\n",
              "    60% {\n",
              "      border-color: transparent;\n",
              "      border-right-color: var(--fill-color);\n",
              "    }\n",
              "    80% {\n",
              "      border-color: transparent;\n",
              "      border-right-color: var(--fill-color);\n",
              "      border-bottom-color: var(--fill-color);\n",
              "    }\n",
              "    90% {\n",
              "      border-color: transparent;\n",
              "      border-bottom-color: var(--fill-color);\n",
              "    }\n",
              "  }\n",
              "</style>\n",
              "\n",
              "  <script>\n",
              "    async function quickchart(key) {\n",
              "      const quickchartButtonEl =\n",
              "        document.querySelector('#' + key + ' button');\n",
              "      quickchartButtonEl.disabled = true;  // To prevent multiple clicks.\n",
              "      quickchartButtonEl.classList.add('colab-df-spinner');\n",
              "      try {\n",
              "        const charts = await google.colab.kernel.invokeFunction(\n",
              "            'suggestCharts', [key], {});\n",
              "      } catch (error) {\n",
              "        console.error('Error during call to suggestCharts:', error);\n",
              "      }\n",
              "      quickchartButtonEl.classList.remove('colab-df-spinner');\n",
              "      quickchartButtonEl.classList.add('colab-df-quickchart-complete');\n",
              "    }\n",
              "    (() => {\n",
              "      let quickchartButtonEl =\n",
              "        document.querySelector('#df-4c6dbba7-68ef-4ff6-afd3-1e85ccbdc8e3 button');\n",
              "      quickchartButtonEl.style.display =\n",
              "        google.colab.kernel.accessAllowed ? 'block' : 'none';\n",
              "    })();\n",
              "  </script>\n",
              "</div>\n",
              "\n",
              "    </div>\n",
              "  </div>\n"
            ],
            "application/vnd.google.colaboratory.intrinsic+json": {
              "type": "dataframe",
              "summary": "{\n  \"name\": \"automl\",\n  \"rows\": 7,\n  \"fields\": [\n    {\n      \"column\": \"model_id\",\n      \"properties\": {\n        \"dtype\": \"number\",\n        \"std\": 15,\n        \"min\": 7,\n        \"max\": 46,\n        \"num_unique_values\": 7,\n        \"samples\": [\n          45,\n          20,\n          44\n        ],\n        \"semantic_type\": \"\",\n        \"description\": \"\"\n      }\n    },\n    {\n      \"column\": \"rank\",\n      \"properties\": {\n        \"dtype\": \"number\",\n        \"std\": 2,\n        \"min\": 1,\n        \"max\": 7,\n        \"num_unique_values\": 7,\n        \"samples\": [\n          1,\n          2,\n          6\n        ],\n        \"semantic_type\": \"\",\n        \"description\": \"\"\n      }\n    },\n    {\n      \"column\": \"ensemble_weight\",\n      \"properties\": {\n        \"dtype\": \"number\",\n        \"std\": 0.21179504917996278,\n        \"min\": 0.02,\n        \"max\": 0.58,\n        \"num_unique_values\": 4,\n        \"samples\": [\n          0.58,\n          0.08,\n          0.02\n        ],\n        \"semantic_type\": \"\",\n        \"description\": \"\"\n      }\n    },\n    {\n      \"column\": \"type\",\n      \"properties\": {\n        \"dtype\": \"string\",\n        \"num_unique_values\": 6,\n        \"samples\": [\n          \"random_forest\",\n          \"adaboost\",\n          \"sgd\"\n        ],\n        \"semantic_type\": \"\",\n        \"description\": \"\"\n      }\n    },\n    {\n      \"column\": \"cost\",\n      \"properties\": {\n        \"dtype\": \"number\",\n        \"std\": 0.16879274242133518,\n        \"min\": 0.3143591211531367,\n        \"max\": 0.7801019677184833,\n        \"num_unique_values\": 7,\n        \"samples\": [\n          0.3143591211531367,\n          0.3336058797695626,\n          0.6405480094897933\n        ],\n        \"semantic_type\": \"\",\n        \"description\": \"\"\n      }\n    },\n    {\n      \"column\": \"duration\",\n      \"properties\": {\n        \"dtype\": \"number\",\n        \"std\": 3.2798013250009657,\n        \"min\": 1.154141902923584,\n        \"max\": 10.293934345245361,\n        \"num_unique_values\": 7,\n        \"samples\": [\n          3.778857469558716,\n          1.5151774883270264,\n          1.7923884391784668\n        ],\n        \"semantic_type\": \"\",\n        \"description\": \"\"\n      }\n    }\n  ]\n}"
            }
          },
          "metadata": {},
          "execution_count": 46
        }
      ]
    }
  ]
}